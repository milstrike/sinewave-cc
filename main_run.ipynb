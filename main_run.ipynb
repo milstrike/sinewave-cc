{
 "cells": [
  {
   "cell_type": "markdown",
   "id": "30595fa0-d8a2-4cb1-b6ae-d039e2c4def0",
   "metadata": {},
   "source": [
    "<h1>INSTALLING LIBRARY</h1>"
   ]
  },
  {
   "cell_type": "code",
   "execution_count": null,
   "id": "92fb6ccf-bba4-477b-98db-89d1e2dd4414",
   "metadata": {},
   "outputs": [],
   "source": [
    "!pip install numpy\n",
    "!pip install opencv-python\n",
    "!pip install matplotlib"
   ]
  },
  {
   "cell_type": "code",
   "execution_count": null,
   "id": "0cb4edc7-8cd4-4add-b300-4cbfacfcf5d4",
   "metadata": {},
   "outputs": [],
   "source": [
    "import cv2\n",
    "import numpy as np\n",
    "from collections import Counter\n",
    "\n",
    "var_frequencynames = \"50hz\"\n",
    "var_inputimages = \"inputimages.jpg\"\n",
    "var_croppedimages = \"croppedimages.jpg\"\n",
    "var_linesimages = \"linesimages.jpg\"\n",
    "var_totalcolor = 0\n",
    "var_totallines = 0"
   ]
  },
  {
   "cell_type": "markdown",
   "id": "6e367c08-12f4-455a-8571-8e64961c5456",
   "metadata": {},
   "source": [
    "<h1>Image coordinate finder for cropping</h1>\n",
    "<h4><strong>IMPORTANT!</strong> Just use this cell below if you want to find the accurate cropping point</h4>"
   ]
  },
  {
   "cell_type": "code",
   "execution_count": null,
   "id": "67d5e286-3168-45d1-970c-4049c0912998",
   "metadata": {},
   "outputs": [],
   "source": [
    "image_path = var_inputimages\n",
    "image = cv2.imread(image_path)\n",
    "\n",
    "# Create a named window\n",
    "cv2.namedWindow('Select Region')\n",
    "\n",
    "# Set the callback function for mouse events\n",
    "def select_region(event, x, y, flags, param):\n",
    "    if event == cv2.EVENT_LBUTTONDOWN:\n",
    "        print(f\"Selected coordinates: ({y}, {x})\")\n",
    "\n",
    "# Set the mouse callback\n",
    "cv2.setMouseCallback('Select Region', select_region)\n",
    "\n",
    "# Display the image\n",
    "cv2.imshow('Select Region', image)\n",
    "cv2.waitKey(0)\n",
    "cv2.destroyAllWindows()"
   ]
  },
  {
   "cell_type": "markdown",
   "id": "703939cd-f679-49bf-aa74-c8927c11b72b",
   "metadata": {},
   "source": [
    "<h1>Sinewave Image Cropping</h1>\n",
    "<h4>default variable:</h4>\n",
    "<ul>\n",
    "    <li>X1 = 31</li>\n",
    "    <li>X2 = 374</li>\n",
    "    <li>Y1 = 74</li>\n",
    "    <li>Y2 = 507</li>\n",
    "</ul>"
   ]
  },
  {
   "cell_type": "code",
   "execution_count": null,
   "id": "0a91ec34-7471-48f8-a1d0-49bdbe29a149",
   "metadata": {},
   "outputs": [],
   "source": [
    "img = cv2.imread(var_inputimages)\n",
    "print(img.shape) # Print image shape\n",
    "cv2.imshow(\"Original Sinewave Image\", img)\n",
    " \n",
    "# Cropping an image\n",
    "cropped_image = img[31:374, 74:507]\n",
    " \n",
    "# Display cropped image\n",
    "cv2.imshow(\"Cropped Images\", cropped_image)\n",
    " \n",
    "# Save the cropped image\n",
    "cv2.imwrite(var_croppedimages, cropped_image)\n",
    " \n",
    "cv2.waitKey(0)\n",
    "cv2.destroyAllWindows()"
   ]
  },
  {
   "cell_type": "markdown",
   "id": "1116e06e-e116-4270-9cb0-da6e5fc936e9",
   "metadata": {},
   "source": [
    "<h1>Color Counter</h1>\n",
    "<h4>After cropping, we can count how many colors are inside the image</h4>"
   ]
  },
  {
   "cell_type": "code",
   "execution_count": null,
   "id": "7b2e5110-c48c-46e4-ad7c-bef9e04bfa39",
   "metadata": {},
   "outputs": [],
   "source": [
    "# Load the image\n",
    "img = cv2.imread(var_croppedimages)\n",
    "\n",
    "# Check if the image is loaded successfully\n",
    "if img is None:\n",
    "    print(\"Error: Unable to load the image.\")\n",
    "else:\n",
    "    # Reshape the image to a list of pixels\n",
    "    pixel_values = img.reshape((-1, 3))\n",
    "\n",
    "    # Convert the pixel values to a set of unique tuples\n",
    "    unique_colors = set(map(tuple, pixel_values))\n",
    "\n",
    "    # Print the unique colors\n",
    "    print(\"List of unique colors:\")\n",
    "    for color in unique_colors:\n",
    "        var_totalcolor += 1\n",
    "        print(color)\n",
    "\n",
    "print (\"Total Color Detected: \" + str(var_totalcolor))"
   ]
  },
  {
   "cell_type": "markdown",
   "id": "0be5fc8a-9397-4486-aaa8-5c1b893361b2",
   "metadata": {},
   "source": [
    "<h1>Color Counter</h1>\n",
    "<h4>Now, we can count how many colors for each color index</h4>"
   ]
  },
  {
   "cell_type": "code",
   "execution_count": 34,
   "id": "a3e2d145-0b81-4dd1-8dc3-a772599c52d6",
   "metadata": {},
   "outputs": [
    {
     "name": "stdout",
     "output_type": "stream",
     "text": [
      "Color counts saved to 50hz.csv\n"
     ]
    }
   ],
   "source": [
    "import cv2\n",
    "import numpy as np\n",
    "from collections import Counter\n",
    "import csv\n",
    "\n",
    "# Load the image\n",
    "img = cv2.imread(var_croppedimages)\n",
    "\n",
    "# Check if the image is loaded successfully\n",
    "if img is None:\n",
    "    print(\"Error: Unable to load the image.\")\n",
    "else:\n",
    "    # Reshape the image to a list of pixels\n",
    "    pixel_values = img.reshape((-1, 3))\n",
    "\n",
    "    # Convert the pixel values to a list of tuples\n",
    "    colors = list(map(tuple, pixel_values))\n",
    "\n",
    "    # Use Counter to count occurrences of each color\n",
    "    color_counts = Counter(colors)\n",
    "\n",
    "    # Save color counts to a CSV file\n",
    "    csv_filename = var_frequencynames + \".csv\"\n",
    "    with open(csv_filename, mode='w', newline='') as csv_file:\n",
    "        fieldnames = ['R', 'G', 'B', 'Total']\n",
    "        writer = csv.DictWriter(csv_file, fieldnames=fieldnames)\n",
    "\n",
    "        # Write the header\n",
    "        writer.writeheader()\n",
    "\n",
    "        # Write color counts\n",
    "        for color, count in color_counts.items():\n",
    "            writer.writerow({'R': color[2], 'G': color[1], 'B': color[0], 'Total': count})\n",
    "\n",
    "    print(f\"Color counts saved to {csv_filename}\")"
   ]
  }
 ],
 "metadata": {
  "kernelspec": {
   "display_name": "Python 3 (ipykernel)",
   "language": "python",
   "name": "python3"
  },
  "language_info": {
   "codemirror_mode": {
    "name": "ipython",
    "version": 3
   },
   "file_extension": ".py",
   "mimetype": "text/x-python",
   "name": "python",
   "nbconvert_exporter": "python",
   "pygments_lexer": "ipython3",
   "version": "3.10.7"
  }
 },
 "nbformat": 4,
 "nbformat_minor": 5
}
